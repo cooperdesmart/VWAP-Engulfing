{
 "cells": [
  {
   "cell_type": "code",
   "execution_count": 35,
   "id": "0df0e277",
   "metadata": {},
   "outputs": [
    {
     "name": "stdout",
     "output_type": "stream",
     "text": [
      "\n",
      "Reading file =  C:\\Users\\desma\\Downloads\\jupyter work\\DATA\\QQQ15m.txt\n"
     ]
    }
   ],
   "source": [
    "import pandas as pd\n",
    "import glob\n",
    "import pandas_ta as ta\n",
    "\n",
    "headers = ['Date','Time','Open','High','Low','Close','Volume']\n",
    "path = \"C:\\\\Users\\\\desma\\\\Downloads\\\\jupyter work\\\\DATA\\\\\"\n",
    "#set up so i could run multiple datasets if wanted\n",
    "filenames = glob.glob(path + \"QQQ15m.txt\")\n",
    "for file in filenames:\n",
    "    print(\"\\nReading file = \", file)\n",
    "    df = pd.read_csv(file, header = None)\n",
    "    df.columns=headers\n",
    "#df['Datetime'] = df['Date'] + ' ' + df['Time']\n",
    "df.index = pd.to_datetime(df['Date'] + ' ' + df['Time'])\n",
    "df['VWAP'] = ta.vwap(df.High, df.Low, df.Close, df.Volume)\n",
    "df.reset_index(inplace=True)\n",
    "dfLen = len(df)"
   ]
  },
  {
   "cell_type": "code",
   "execution_count": 36,
   "id": "d3d0ad39",
   "metadata": {},
   "outputs": [
    {
     "data": {
      "text/plain": [
       "0    22559\n",
       "1      574\n",
       "2      541\n",
       "Name: Signal, dtype: int64"
      ]
     },
     "execution_count": 36,
     "metadata": {},
     "output_type": "execute_result"
    }
   ],
   "source": [
    "engulfSignal = [0]*dfLen\n",
    "signal = [0]*dfLen\n",
    "\n",
    "\n",
    "#Engulfing\n",
    "for row in range(1, dfLen): \n",
    "    diffMin = abs(df.Open[row-1]-df.Close[row-1]) * 1.25\n",
    "    bodyDiff = abs(df.Open[row]-df.Close[row]) \n",
    "    #BEARISH reversal: signal = 2\n",
    "    if(bodyDiff>diffMin and df.Open[row-1]<df.Close[row-1] and df.Open[row]>df.Close[row] \n",
    "       and df.Open[row]>df.Close[row-1] and df.Close[row]<df.Open[row-1]):\\\n",
    "        engulfSignal[row] = 2 \n",
    "            \n",
    "    #BULLISH reversal: signal = 1\n",
    "    elif(bodyDiff>diffMin and df.Open[row-1]>df.Close[row-1] and df.Open[row]<df.Close[row] \n",
    "       and df.Open[row]<df.Close[row-1] and df.Close[row]>df.Open[row-1]):\n",
    "        engulfSignal[row] = 1 \n",
    "df['Engulfing'] = engulfSignal\n",
    "\n",
    "\n",
    "#VWAP\n",
    "for row in range(1, dfLen):\n",
    "    close = df.Close[row]\n",
    "    VWAP = df.VWAP[row]\n",
    "    engSig = df.Engulfing[row]\n",
    "    #long position (above VWAP and bullish engulfing) --> signal == 1\n",
    "    if close>VWAP and engSig==1:\n",
    "        signal[row] = 1\n",
    "        \n",
    "    #short position (below VWAP and bearish engulfing) --> signal == 2\n",
    "    elif close<VWAP and engSig==2:\n",
    "        signal[row] = 2\n",
    "        \n",
    "df['Signal'] = signal\n",
    "df['Signal'].value_counts()"
   ]
  },
  {
   "cell_type": "code",
   "execution_count": 37,
   "id": "491fe622",
   "metadata": {},
   "outputs": [],
   "source": [
    "def SIGNAL():\n",
    "    return df.Signal"
   ]
  },
  {
   "cell_type": "code",
   "execution_count": 38,
   "id": "aa3e0071",
   "metadata": {},
   "outputs": [
    {
     "name": "stderr",
     "output_type": "stream",
     "text": [
      "C:\\Users\\desma\\AppData\\Local\\Temp/ipykernel_4932/1308077041.py:24: UserWarning: Data index is not datetime. Assuming simple periods, but `pd.DateTimeIndex` is advised.\n",
      "  bt = Backtest(df, myStrat, cash=100_000, margin = 1/1, commission=.000)\n"
     ]
    },
    {
     "data": {
      "text/plain": [
       "Start                                     0.0\n",
       "End                                   23673.0\n",
       "Duration                              23673.0\n",
       "Exposure Time [%]                    52.51753\n",
       "Equity Final [$]                   80601.4891\n",
       "Equity Peak [$]                   104051.2379\n",
       "Return [%]                         -19.398511\n",
       "Buy & Hold Return [%]               -9.083096\n",
       "Return (Ann.) [%]                         0.0\n",
       "Volatility (Ann.) [%]                     NaN\n",
       "Sharpe Ratio                              NaN\n",
       "Sortino Ratio                             NaN\n",
       "Calmar Ratio                              0.0\n",
       "Max. Drawdown [%]                  -26.109165\n",
       "Avg. Drawdown [%]                   -1.508651\n",
       "Max. Drawdown Duration                21475.0\n",
       "Avg. Drawdown Duration                  944.6\n",
       "# Trades                                599.0\n",
       "Win Rate [%]                         36.72788\n",
       "Best Trade [%]                       3.642165\n",
       "Worst Trade [%]                     -1.818541\n",
       "Avg. Trade [%]                      -0.036043\n",
       "Max. Trade Duration                     226.0\n",
       "Avg. Trade Duration                  19.75626\n",
       "Profit Factor                        0.874663\n",
       "Expectancy [%]                      -0.033828\n",
       "SQN                                  -1.38865\n",
       "_strategy                             myStrat\n",
       "_equity_curve                         Equi...\n",
       "_trades                        Size  Entry...\n",
       "dtype: object"
      ]
     },
     "execution_count": 38,
     "metadata": {},
     "output_type": "execute_result"
    }
   ],
   "source": [
    "from backtesting import Strategy, Backtest\n",
    "import numpy as np\n",
    "\n",
    "class myStrat(Strategy):\n",
    "    def init(self):\n",
    "        super().init()\n",
    "        self.signal1=self.I(SIGNAL)     \n",
    "        \n",
    "    def next(self):\n",
    "        super().next()\n",
    "        trailSL = self.data.Close[-1]*.005\n",
    "        for trade in self.trades:\n",
    "            if trade.is_long:\n",
    "                trade.sl = max(trade.sl or -np.inf, self.data.Close[-1] - trailSL)\n",
    "            else:\n",
    "                trade.sl = min(trade.sl or np.inf, self.data.Close[-1] + trailSL)\n",
    "        \n",
    "        if self.signal1==1 and len(self.trades)==0: #Long Signal\n",
    "            self.buy()\n",
    "            \n",
    "        if self.signal1==2 and len(self.trades)==0: #Short Signal\n",
    "            self.sell()\n",
    "            \n",
    "bt = Backtest(df, myStrat, cash=100_000, margin = 1/1, commission=.000)\n",
    "stat = bt.run()\n",
    "stat\n",
    "#bt.plot(show_legend=False, superimpose = True)"
   ]
  },
  {
   "cell_type": "code",
   "execution_count": null,
   "id": "6935f64c",
   "metadata": {},
   "outputs": [],
   "source": []
  },
  {
   "cell_type": "code",
   "execution_count": null,
   "id": "9bce431a",
   "metadata": {},
   "outputs": [],
   "source": []
  },
  {
   "cell_type": "code",
   "execution_count": null,
   "id": "70e9451c",
   "metadata": {},
   "outputs": [],
   "source": []
  }
 ],
 "metadata": {
  "kernelspec": {
   "display_name": "Python 3 (ipykernel)",
   "language": "python",
   "name": "python3"
  },
  "language_info": {
   "codemirror_mode": {
    "name": "ipython",
    "version": 3
   },
   "file_extension": ".py",
   "mimetype": "text/x-python",
   "name": "python",
   "nbconvert_exporter": "python",
   "pygments_lexer": "ipython3",
   "version": "3.9.7"
  }
 },
 "nbformat": 4,
 "nbformat_minor": 5
}
