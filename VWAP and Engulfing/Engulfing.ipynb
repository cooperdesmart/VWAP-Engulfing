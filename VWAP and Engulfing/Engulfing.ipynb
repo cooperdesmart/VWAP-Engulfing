{
 "cells": [
  {
   "cell_type": "code",
   "execution_count": 1,
   "id": "8fb41d47",
   "metadata": {},
   "outputs": [
    {
     "name": "stdout",
     "output_type": "stream",
     "text": [
      "\n",
      "Reading file =  C:\\Users\\desma\\Downloads\\jupyter work\\DATA\\QQQ15m.txt\n"
     ]
    }
   ],
   "source": [
    "import pandas as pd\n",
    "import glob\n",
    "\n",
    "headers = ['Date','Time','Open','High','Low','Close','Volume']\n",
    "path = \"C:\\\\Users\\\\desma\\\\Downloads\\\\jupyter work\\\\DATA\\\\\"\n",
    "#set up so i could run multiple datasets if wanted\n",
    "filenames = glob.glob(path + \"QQQ15m.txt\")\n",
    "for file in filenames:\n",
    "    print(\"\\nReading file = \", file)\n",
    "    df = pd.read_csv(file, header = None)\n",
    "    df.columns=headers\n",
    "\n",
    "dfLen = len(df)"
   ]
  },
  {
   "cell_type": "code",
   "execution_count": 3,
   "id": "1b608cf4",
   "metadata": {},
   "outputs": [
    {
     "data": {
      "text/plain": [
       "0    21929\n",
       "2      882\n",
       "1      863\n",
       "Name: Signal, dtype: int64"
      ]
     },
     "execution_count": 3,
     "metadata": {},
     "output_type": "execute_result"
    }
   ],
   "source": [
    "signal = [0]*dfLen\n",
    "entryBull = [None]*dfLen\n",
    "entryBear = [None]*dfLen\n",
    "\n",
    "for row in range(1, dfLen): \n",
    "    diffMin = abs(df.Open[row-1]-df.Close[row-1]) * 1.25\n",
    "    bodyDiff = abs(df.Open[row]-df.Close[row]) \n",
    "    #BEARISH reversal: signal = 2\n",
    "    if(bodyDiff>diffMin and df.Open[row-1]<df.Close[row-1] and df.Open[row]>df.Close[row] \n",
    "       and df.Open[row]>df.Close[row-1] and df.Close[row]<df.Open[row-1]):\\\n",
    "        signal[row] = 2 \n",
    "            \n",
    "    #BULLISH reversal: signal = 1\n",
    "    elif(bodyDiff>diffMin and df.Open[row-1]>df.Close[row-1] and df.Open[row]<df.Close[row] \n",
    "       and df.Open[row]<df.Close[row-1] and df.Close[row]>df.Open[row-1]):\n",
    "        signal[row] = 1 \n",
    "\n",
    "df['Signal'] = signal\n",
    "df['Signal'].value_counts()\n",
    "\n"
   ]
  },
  {
   "cell_type": "code",
   "execution_count": 5,
   "id": "a164a3f4",
   "metadata": {},
   "outputs": [],
   "source": [
    "def SIGNAL():\n",
    "    return df.Signal"
   ]
  },
  {
   "cell_type": "code",
   "execution_count": 14,
   "id": "bd19c650",
   "metadata": {},
   "outputs": [
    {
     "name": "stderr",
     "output_type": "stream",
     "text": [
      "C:\\Users\\desma\\AppData\\Local\\Temp/ipykernel_18784/1308077041.py:24: UserWarning: Data index is not datetime. Assuming simple periods, but `pd.DateTimeIndex` is advised.\n",
      "  bt = Backtest(df, myStrat, cash=100_000, margin = 1/1, commission=.000)\n"
     ]
    },
    {
     "data": {
      "text/plain": [
       "Start                                     0.0\n",
       "End                                   23673.0\n",
       "Duration                              23673.0\n",
       "Exposure Time [%]                   61.996283\n",
       "Equity Final [$]                  72728.90745\n",
       "Equity Peak [$]                   104485.5818\n",
       "Return [%]                         -27.271093\n",
       "Buy & Hold Return [%]               -9.083096\n",
       "Return (Ann.) [%]                         0.0\n",
       "Volatility (Ann.) [%]                     NaN\n",
       "Sharpe Ratio                              NaN\n",
       "Sortino Ratio                             NaN\n",
       "Calmar Ratio                              0.0\n",
       "Max. Drawdown [%]                  -33.857743\n",
       "Avg. Drawdown [%]                   -1.669841\n",
       "Max. Drawdown Duration                23331.0\n",
       "Avg. Drawdown Duration             983.791667\n",
       "# Trades                                747.0\n",
       "Win Rate [%]                        34.672021\n",
       "Best Trade [%]                       4.026873\n",
       "Worst Trade [%]                     -1.628918\n",
       "Avg. Trade [%]                      -0.042704\n",
       "Max. Trade Duration                     184.0\n",
       "Avg. Trade Duration                 18.647925\n",
       "Profit Factor                        0.847064\n",
       "Expectancy [%]                       -0.04062\n",
       "SQN                                 -1.894676\n",
       "_strategy                             myStrat\n",
       "_equity_curve                          Equ...\n",
       "_trades                        Size  Entry...\n",
       "dtype: object"
      ]
     },
     "execution_count": 14,
     "metadata": {},
     "output_type": "execute_result"
    }
   ],
   "source": [
    "from backtesting import Strategy, Backtest\n",
    "import numpy as np\n",
    "\n",
    "class myStrat(Strategy):\n",
    "    def init(self):\n",
    "        super().init()\n",
    "        self.signal1=self.I(SIGNAL)     \n",
    "        \n",
    "    def next(self):\n",
    "        super().next()\n",
    "        trailSL = self.data.Close[-1]*.005\n",
    "        for trade in self.trades:\n",
    "            if trade.is_long:\n",
    "                trade.sl = max(trade.sl or -np.inf, self.data.Close[-1] - trailSL)\n",
    "            else:\n",
    "                trade.sl = min(trade.sl or np.inf, self.data.Close[-1] + trailSL)\n",
    "        \n",
    "        if self.signal1==1 and len(self.trades)==0: #Long Signal\n",
    "            self.buy()\n",
    "            \n",
    "        if self.signal1==2 and len(self.trades)==0: #Short Signal\n",
    "            self.sell()\n",
    "            \n",
    "bt = Backtest(df, myStrat, cash=100_000, margin = 1/1, commission=.000)\n",
    "stat = bt.run()\n",
    "stat\n",
    "#bt.plot(show_legend=False, superimpose = True)"
   ]
  },
  {
   "cell_type": "code",
   "execution_count": null,
   "id": "c9ebad17",
   "metadata": {},
   "outputs": [],
   "source": []
  }
 ],
 "metadata": {
  "kernelspec": {
   "display_name": "Python 3 (ipykernel)",
   "language": "python",
   "name": "python3"
  },
  "language_info": {
   "codemirror_mode": {
    "name": "ipython",
    "version": 3
   },
   "file_extension": ".py",
   "mimetype": "text/x-python",
   "name": "python",
   "nbconvert_exporter": "python",
   "pygments_lexer": "ipython3",
   "version": "3.9.7"
  }
 },
 "nbformat": 4,
 "nbformat_minor": 5
}
