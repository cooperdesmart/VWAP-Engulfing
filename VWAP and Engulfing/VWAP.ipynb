{
 "cells": [
  {
   "cell_type": "code",
   "execution_count": 15,
   "id": "e05f854f",
   "metadata": {},
   "outputs": [
    {
     "name": "stdout",
     "output_type": "stream",
     "text": [
      "\n",
      "Reading file =  C:\\Users\\desma\\Downloads\\jupyter work\\DATA\\QQQ15m.txt\n"
     ]
    }
   ],
   "source": [
    "import pandas as pd\n",
    "import glob\n",
    "import pandas_ta as ta\n",
    "\n",
    "headers = ['Date','Time','Open','High','Low','Close','Volume']\n",
    "path = \"C:\\\\Users\\\\desma\\\\Downloads\\\\jupyter work\\\\DATA\\\\\"\n",
    "#set up so i could run multiple datasets if wanted\n",
    "filenames = glob.glob(path + \"QQQ15m.txt\")\n",
    "for file in filenames:\n",
    "    print(\"\\nReading file = \", file)\n",
    "    df = pd.read_csv(file, header = None)\n",
    "    df.columns=headers\n",
    "#df['Datetime'] = df['Date'] + ' ' + df['Time']\n",
    "df.index = pd.to_datetime(df['Date'] + ' ' + df['Time'])\n",
    "df['VWAP'] = ta.vwap(df.High, df.Low, df.Close, df.Volume)\n",
    "dfLen = len(df)"
   ]
  },
  {
   "cell_type": "code",
   "execution_count": 16,
   "id": "d6b0ae6a",
   "metadata": {},
   "outputs": [],
   "source": [
    "import plotly.graph_objects as go\n",
    "def plotSignal(df):\n",
    "    fig = go.Figure(data=[go.Candlestick(x=df.index, open=df['Open'],  high=df['High'], low=df['Low'],\n",
    "                                         close=df['Close'], name = '15m Candle')])\n",
    "    fig.add_trace(go.Line(x=df.index, y=df.VWAP, name='VWAP'))\n",
    "    fig.show()\n",
    "df1 = df[0:1600]\n",
    "#plotSignal(df1)"
   ]
  },
  {
   "cell_type": "code",
   "execution_count": 24,
   "id": "7c15025b",
   "metadata": {},
   "outputs": [
    {
     "data": {
      "text/plain": [
       "0    19793\n",
       "1     1958\n",
       "2     1923\n",
       "Name: Signal, dtype: int64"
      ]
     },
     "execution_count": 24,
     "metadata": {},
     "output_type": "execute_result"
    }
   ],
   "source": [
    "signal = [0]*dfLen\n",
    "for row in range(1, dfLen):\n",
    "    prevClose = df.Close[row-1]\n",
    "    currClose = df.Close[row]\n",
    "    prevVWAP = df.VWAP[row-1]\n",
    "    currVWAP = df.VWAP[row]\n",
    "    #long position --> signal == 1\n",
    "    if prevClose<prevVWAP and currClose>currVWAP:\n",
    "        signal[row] = 1\n",
    "        \n",
    "    #short position --> signal == 2\n",
    "    elif prevClose>prevVWAP and currClose<currVWAP:\n",
    "        signal[row] = 2\n",
    "        \n",
    "df['Signal'] = signal\n",
    "df['Signal'].value_counts()"
   ]
  },
  {
   "cell_type": "code",
   "execution_count": 25,
   "id": "d35e812a",
   "metadata": {},
   "outputs": [],
   "source": [
    "def SIGNAL():\n",
    "    return df.Signal"
   ]
  },
  {
   "cell_type": "code",
   "execution_count": 27,
   "id": "a96101ba",
   "metadata": {},
   "outputs": [
    {
     "data": {
      "text/plain": [
       "Start                     2021-01-04 04:00:00\n",
       "End                       2022-06-23 11:15:00\n",
       "Duration                    535 days 07:15:00\n",
       "Exposure Time [%]                   54.439469\n",
       "Equity Final [$]                 63479.027195\n",
       "Equity Peak [$]                    104718.147\n",
       "Return [%]                         -36.520973\n",
       "Buy & Hold Return [%]               -9.083096\n",
       "Return (Ann.) [%]                  -27.787031\n",
       "Volatility (Ann.) [%]               10.132555\n",
       "Sharpe Ratio                              0.0\n",
       "Sortino Ratio                             0.0\n",
       "Calmar Ratio                              0.0\n",
       "Max. Drawdown [%]                  -42.493242\n",
       "Avg. Drawdown [%]                   -2.774956\n",
       "Max. Drawdown Duration      530 days 18:30:00\n",
       "Avg. Drawdown Duration       31 days 11:30:00\n",
       "# Trades                                 1658\n",
       "Win Rate [%]                         35.88661\n",
       "Best Trade [%]                       2.741532\n",
       "Worst Trade [%]                     -1.520209\n",
       "Avg. Trade [%]                      -0.027449\n",
       "Max. Trade Duration           4 days 18:15:00\n",
       "Avg. Trade Duration           0 days 03:10:00\n",
       "Profit Factor                        0.842629\n",
       "Expectancy [%]                      -0.026544\n",
       "SQN                                 -2.730445\n",
       "_strategy                             myStrat\n",
       "_equity_curve                             ...\n",
       "_trades                         Size  Entr...\n",
       "dtype: object"
      ]
     },
     "execution_count": 27,
     "metadata": {},
     "output_type": "execute_result"
    }
   ],
   "source": [
    "from backtesting import Strategy, Backtest\n",
    "import numpy as np\n",
    "\n",
    "class myStrat(Strategy):\n",
    "    def init(self):\n",
    "        super().init()\n",
    "        self.signal1=self.I(SIGNAL)     \n",
    "        \n",
    "    def next(self):\n",
    "        super().next()\n",
    "        trailSL = self.data.Close[-1]*.0025\n",
    "        for trade in self.trades:\n",
    "            if trade.is_long:\n",
    "                trade.sl = max(trade.sl or -np.inf, self.data.Close[-1] - trailSL)\n",
    "            else:\n",
    "                trade.sl = min(trade.sl or np.inf, self.data.Close[-1] + trailSL)\n",
    "        \n",
    "        if self.signal1==1 and len(self.trades)==0: #Long Signal\n",
    "            self.buy()\n",
    "            \n",
    "        if self.signal1==2 and len(self.trades)==0: #Short Signal\n",
    "            self.sell()\n",
    "            \n",
    "bt = Backtest(df, myStrat, cash=100_000, margin = 1/1, commission=.000)\n",
    "stat = bt.run()\n",
    "stat\n",
    "#bt.plot(show_legend=False, superimpose = True)"
   ]
  },
  {
   "cell_type": "code",
   "execution_count": null,
   "id": "2a55cd75",
   "metadata": {},
   "outputs": [],
   "source": []
  }
 ],
 "metadata": {
  "kernelspec": {
   "display_name": "Python 3 (ipykernel)",
   "language": "python",
   "name": "python3"
  },
  "language_info": {
   "codemirror_mode": {
    "name": "ipython",
    "version": 3
   },
   "file_extension": ".py",
   "mimetype": "text/x-python",
   "name": "python",
   "nbconvert_exporter": "python",
   "pygments_lexer": "ipython3",
   "version": "3.9.7"
  }
 },
 "nbformat": 4,
 "nbformat_minor": 5
}
